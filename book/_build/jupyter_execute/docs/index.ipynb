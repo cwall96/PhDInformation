{
 "cells": [
  {
   "cell_type": "markdown",
   "id": "39a5fa9c",
   "metadata": {},
   "source": [
    "# Conor Wall - Contact Information \n",
    "\n",
    "Email: conor.p.a.wall@northumbria.ac.uk \\\n",
    "Department: Computer and Information Sciences \\ \n",
    "Office: ELB111 \\\n",
    "Principal Supervisor: Dr Alan Godfrey, Dept. of Computer & Information Sciences \\\n",
    "Secondary Supervisors: Professor Richard Walker, Northumbria Healthcare NHS Trust | Professor Peter McMeekin, Dept. Nursing and Midwifery \\\n",
    "Digi Health Research Group: [Link](https://digihealthgroup.org/#) \\\n",
    "Google Scholar: [Link](https://scholar.google.com/citations?user=4zQAbnsAAAAJ&hl=en&oi=ao) \\\n",
    "Twitter: [Link](https://www.twitter.com/ConorWall96) \n",
    "\n",
    "# Poster Download Link and References\n",
    "\n",
    "Click on this [link](https://github.com/cwall96/PhDInformation/tree/main/book/posterfinal.pdf) to download poster. \n",
    "\n",
    "1. Bryant, M.S., Rintala, D.H., Hou, J.G., Charness, A.L., Fernandez, A.L., Collins, R.L., Baker, J., Lai, E.C. and Protas, E.J., 2011. Gait variability in Parkinson’s disease: influence of walking speed and dopaminergic treatment. Neurological research, 33(9), pp.959-964.\n",
    "2. Schaafsma, J.D., Giladi, N., Balash, Y., Bartels, A.L., Gurevich, T. and Hausdorff, J.M., 2003. Gait dynamics in Parkinson’s disease: relationship to Parkinsonian features, falls and response to levodopa. Journal of the neurological sciences, 212(1-2), pp.47-53.\n",
    "3. Ghai, S., Ghai, I., Schmitz, G. and Effenberg, A.O., 2018. Effect of rhythmic auditory cueing on parkinsonian gait: a systematic review and meta-analysis. Scientific reports, 8(1), pp.1-19.\n",
    "4. Hausdorff, J.M., Lowenthal, J., Herman, T., Gruendlinger, L., Peretz, C. and Giladi, N., 2007. Rhythmic auditory stimulation modulates gait variability in Parkinson’s disease. European Journal of Neuroscience, 26(8), pp.2369-2375.\n",
    "5. V. Cochen De Cock et al., ‘BeatWalk: Personalized Music-Based Gait Rehabilitation in Parkinson’s Disease’, Front. Psychol., vol. 12, p. 655121, Apr. 2021, doi: 10.3389/fpsyg.2021.655121."
   ]
  }
 ],
 "metadata": {
  "jupytext": {
   "text_representation": {
    "extension": ".md",
    "format_name": "myst"
   }
  },
  "kernelspec": {
   "display_name": "Python 3",
   "language": "python",
   "name": "python3"
  },
  "language_info": {
   "codemirror_mode": {
    "name": "ipython",
    "version": 3
   },
   "file_extension": ".py",
   "mimetype": "text/x-python",
   "name": "python",
   "nbconvert_exporter": "python",
   "pygments_lexer": "ipython3",
   "version": "3.10.10"
  },
  "source_map": [
   10
  ]
 },
 "nbformat": 4,
 "nbformat_minor": 5
}