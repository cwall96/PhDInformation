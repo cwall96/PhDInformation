{
 "cells": [
  {
   "cell_type": "markdown",
   "id": "4cfc234b",
   "metadata": {},
   "source": [
    "# Conor Wall - Contact Information \n",
    "\n",
    "Email: conor.p.a.wall@northumbria.ac.uk \\\n",
    "Department: Computer and Information Sciences \\ \n",
    "Office: ELB111 \\\n",
    "Principal Supervisor: Dr Alan Godfrey, Dept. of Computer & Information Sciences \\\n",
    "Secondary Supervisors: Professor Richard Walker, Northumbria Healthcare NHS Trust | Professor Peter McMeekin, Dept. Nursing and Midwifery \\\n",
    "Digi Health Research Group: [Link](https://digihealthgroup.org/#) \\\n",
    "Google Scholar: [Link](https://scholar.google.com/citations?user=4zQAbnsAAAAJ&hl=en&oi=ao) \\\n",
    "Twitter: [Link](https://www.twitter.com/ConorWall96) \n",
    "\n",
    "# Poster Download Link and References\n",
    "\n",
    "Click on this [link](https://github.com/cwall96/PhDInformation/tree/main/book/pgrposter.pdf) to download poster. \n",
    "\n",
    "1. Triarhou, L.C., 2013. Dopamine and Parkinson's disease. In Madame Curie Bioscience Database [Internet]. Landes Bioscience.\n",
    "2. Bryant, M.S., Rintala, D.H., Hou, J.G., Charness, A.L., Fernandez, A.L., Collins, R.L., Baker, J., Lai, E.C. and Protas, E.J., 2011. Gait    variability in Parkinson’s disease: influence of walking speed and dopaminergic treatment. Neurological research, 33(9), pp.959-964.\n",
    "3. Grimbergen, Y.A., Knol, M.J., Bloem, B.R., Kremer, B.P., Roos, R.A. and Munneke, M., 2008. Falls and gait disturbances in Huntington's disease. Movement disorders: official journal of the Movement Disorder Society, 23(7), pp.970-976.\n",
    "4. Schaafsma, J.D., Giladi, N., Balash, Y., Bartels, A.L., Gurevich, T. and Hausdorff, J.M., 2003. Gait dynamics in Parkinson's disease: relationship to Parkinsonian features, falls and response to levodopa. Journal of the neurological sciences, 212(1-2), pp.47-53.\n",
    "5. Allen, N.E., Schwarzel, A.K. and Canning, C.G., 2013. Recurrent falls in Parkinson’s disease: a systematic review. Parkinson’s disease, 2013.\n",
    "6. Michałowska, M., FIszer, U., Krygowska-Wajs, A. and Owczarek, K., 2005. Falls in Parkinson's disease. Causes and impact on patients' quality of life. Functional neurology, 20(4), pp.163-168.\n",
    "7. Lim, I., van Wegen, E., de Goede, C., Deutekom, M., Nieuwboer, A., Willems, A., Jones, D., Rochester, L. and Kwakkel, G., 2005. Effects of external rhythmical cueing on gait in patients with Parkinson's disease: a systematic review. Clinical rehabilitation, 19(7), pp.695-713.\n",
    "8. Ghai, S., Ghai, I., Schmitz, G. and Effenberg, A.O., 2018. Effect of rhythmic auditory cueing on parkinsonian gait: a systematic review and meta-analysis. Scientific reports, 8(1), pp.1-19.\n",
    "9. Schwartz, A.E., van Walsem, M.R., Brean, A. and Frich, J.C., 2019. Therapeutic use of music, dance, and rhythmic auditory cueing for patients with Huntington’s disease: a systematic review. Journal of Huntington's disease, 8(4), pp.393-420.\n",
    "10. Hausdorff, J.M., Lowenthal, J., Herman, T., Gruendlinger, L., Peretz, C. and Giladi, N., 2007. Rhythmic auditory stimulation modulates gait variability in Parkinson's disease. European Journal of Neuroscience, 26(8), pp.2369-2375.\n",
    "11. Hausdorff, J.M., Lowenthal, J., Herman, T., Gruendlinger, L., Peretz, C. and Giladi, N., 2007. Rhythmic auditory stimulation modulates gait variability in Parkinson's disease. European Journal of Neuroscience, 26(8), pp.2369-2375."
   ]
  }
 ],
 "metadata": {
  "jupytext": {
   "text_representation": {
    "extension": ".md",
    "format_name": "myst"
   }
  },
  "kernelspec": {
   "display_name": "Python 3",
   "language": "python",
   "name": "python3"
  },
  "language_info": {
   "codemirror_mode": {
    "name": "ipython",
    "version": 3
   },
   "file_extension": ".py",
   "mimetype": "text/x-python",
   "name": "python",
   "nbconvert_exporter": "python",
   "pygments_lexer": "ipython3",
   "version": "3.10.10"
  },
  "source_map": [
   10
  ]
 },
 "nbformat": 4,
 "nbformat_minor": 5
}